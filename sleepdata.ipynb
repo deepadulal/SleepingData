{
 "cells": [
  {
   "cell_type": "code",
   "execution_count": 2,
   "metadata": {},
   "outputs": [],
   "source": [
    "import pandas as pd \n",
    "import matplotlib"
   ]
  },
  {
   "cell_type": "code",
   "execution_count": 14,
   "metadata": {},
   "outputs": [],
   "source": [
    "import matplotlib.pyplot as plt"
   ]
  },
  {
   "cell_type": "markdown",
   "metadata": {},
   "source": [
    "Importing Data from Kaggle Sleep_Data(Data Source and Loading)"
   ]
  },
  {
   "cell_type": "code",
   "execution_count": 3,
   "metadata": {},
   "outputs": [
    {
     "name": "stdout",
     "output_type": "stream",
     "text": [
      "    body_weight  brain_weight max_life_span gestation_time  predation_index  \\\n",
      "0      6654.000        5712.0          38.6            645                3   \n",
      "1         1.000           6.6           4.5             42                3   \n",
      "2         3.385          44.5            14             60                1   \n",
      "3         0.920           5.7             ?             25                5   \n",
      "4      2547.000        4603.0            69            624                3   \n",
      "..          ...           ...           ...            ...              ...   \n",
      "57        2.000          12.3           7.5            200                3   \n",
      "58        0.104           2.5           2.3             46                3   \n",
      "59        4.190          58.0            24            210                4   \n",
      "60        3.500           3.9             3             14                2   \n",
      "61        4.050          17.0            13             38                3   \n",
      "\n",
      "    sleep_exposure_index  danger_index total_sleep  \n",
      "0                      5             3         3.3  \n",
      "1                      1             3         8.3  \n",
      "2                      1             1        12.5  \n",
      "3                      2             3        16.5  \n",
      "4                      5             4         3.9  \n",
      "..                   ...           ...         ...  \n",
      "57                     1             3         5.4  \n",
      "58                     2             2        15.8  \n",
      "59                     3             4        10.3  \n",
      "60                     1             1        19.4  \n",
      "61                     1             1           ?  \n",
      "\n",
      "[62 rows x 8 columns]\n"
     ]
    }
   ],
   "source": [
    "sleep_Data  = pd.read_csv('dataset_2191_sleep.csv')\n",
    "print(sleep_Data)"
   ]
  },
  {
   "cell_type": "markdown",
   "metadata": {},
   "source": [
    "isplaying the 1st few rows "
   ]
  },
  {
   "cell_type": "code",
   "execution_count": 4,
   "metadata": {},
   "outputs": [
    {
     "data": {
      "text/html": [
       "<div>\n",
       "<style scoped>\n",
       "    .dataframe tbody tr th:only-of-type {\n",
       "        vertical-align: middle;\n",
       "    }\n",
       "\n",
       "    .dataframe tbody tr th {\n",
       "        vertical-align: top;\n",
       "    }\n",
       "\n",
       "    .dataframe thead th {\n",
       "        text-align: right;\n",
       "    }\n",
       "</style>\n",
       "<table border=\"1\" class=\"dataframe\">\n",
       "  <thead>\n",
       "    <tr style=\"text-align: right;\">\n",
       "      <th></th>\n",
       "      <th>body_weight</th>\n",
       "      <th>brain_weight</th>\n",
       "      <th>max_life_span</th>\n",
       "      <th>gestation_time</th>\n",
       "      <th>predation_index</th>\n",
       "      <th>sleep_exposure_index</th>\n",
       "      <th>danger_index</th>\n",
       "      <th>total_sleep</th>\n",
       "    </tr>\n",
       "  </thead>\n",
       "  <tbody>\n",
       "    <tr>\n",
       "      <th>0</th>\n",
       "      <td>6654.000</td>\n",
       "      <td>5712.0</td>\n",
       "      <td>38.6</td>\n",
       "      <td>645</td>\n",
       "      <td>3</td>\n",
       "      <td>5</td>\n",
       "      <td>3</td>\n",
       "      <td>3.3</td>\n",
       "    </tr>\n",
       "    <tr>\n",
       "      <th>1</th>\n",
       "      <td>1.000</td>\n",
       "      <td>6.6</td>\n",
       "      <td>4.5</td>\n",
       "      <td>42</td>\n",
       "      <td>3</td>\n",
       "      <td>1</td>\n",
       "      <td>3</td>\n",
       "      <td>8.3</td>\n",
       "    </tr>\n",
       "    <tr>\n",
       "      <th>2</th>\n",
       "      <td>3.385</td>\n",
       "      <td>44.5</td>\n",
       "      <td>14</td>\n",
       "      <td>60</td>\n",
       "      <td>1</td>\n",
       "      <td>1</td>\n",
       "      <td>1</td>\n",
       "      <td>12.5</td>\n",
       "    </tr>\n",
       "    <tr>\n",
       "      <th>3</th>\n",
       "      <td>0.920</td>\n",
       "      <td>5.7</td>\n",
       "      <td>?</td>\n",
       "      <td>25</td>\n",
       "      <td>5</td>\n",
       "      <td>2</td>\n",
       "      <td>3</td>\n",
       "      <td>16.5</td>\n",
       "    </tr>\n",
       "    <tr>\n",
       "      <th>4</th>\n",
       "      <td>2547.000</td>\n",
       "      <td>4603.0</td>\n",
       "      <td>69</td>\n",
       "      <td>624</td>\n",
       "      <td>3</td>\n",
       "      <td>5</td>\n",
       "      <td>4</td>\n",
       "      <td>3.9</td>\n",
       "    </tr>\n",
       "  </tbody>\n",
       "</table>\n",
       "</div>"
      ],
      "text/plain": [
       "   body_weight  brain_weight max_life_span gestation_time  predation_index  \\\n",
       "0     6654.000        5712.0          38.6            645                3   \n",
       "1        1.000           6.6           4.5             42                3   \n",
       "2        3.385          44.5            14             60                1   \n",
       "3        0.920           5.7             ?             25                5   \n",
       "4     2547.000        4603.0            69            624                3   \n",
       "\n",
       "   sleep_exposure_index  danger_index total_sleep  \n",
       "0                     5             3         3.3  \n",
       "1                     1             3         8.3  \n",
       "2                     1             1        12.5  \n",
       "3                     2             3        16.5  \n",
       "4                     5             4         3.9  "
      ]
     },
     "execution_count": 4,
     "metadata": {},
     "output_type": "execute_result"
    }
   ],
   "source": [
    "sleep_Data.head()\n",
    "\n"
   ]
  },
  {
   "cell_type": "markdown",
   "metadata": {},
   "source": [
    "Displaying Last few Rows "
   ]
  },
  {
   "cell_type": "code",
   "execution_count": 5,
   "metadata": {},
   "outputs": [
    {
     "data": {
      "text/html": [
       "<div>\n",
       "<style scoped>\n",
       "    .dataframe tbody tr th:only-of-type {\n",
       "        vertical-align: middle;\n",
       "    }\n",
       "\n",
       "    .dataframe tbody tr th {\n",
       "        vertical-align: top;\n",
       "    }\n",
       "\n",
       "    .dataframe thead th {\n",
       "        text-align: right;\n",
       "    }\n",
       "</style>\n",
       "<table border=\"1\" class=\"dataframe\">\n",
       "  <thead>\n",
       "    <tr style=\"text-align: right;\">\n",
       "      <th></th>\n",
       "      <th>body_weight</th>\n",
       "      <th>brain_weight</th>\n",
       "      <th>max_life_span</th>\n",
       "      <th>gestation_time</th>\n",
       "      <th>predation_index</th>\n",
       "      <th>sleep_exposure_index</th>\n",
       "      <th>danger_index</th>\n",
       "      <th>total_sleep</th>\n",
       "    </tr>\n",
       "  </thead>\n",
       "  <tbody>\n",
       "    <tr>\n",
       "      <th>57</th>\n",
       "      <td>2.000</td>\n",
       "      <td>12.3</td>\n",
       "      <td>7.5</td>\n",
       "      <td>200</td>\n",
       "      <td>3</td>\n",
       "      <td>1</td>\n",
       "      <td>3</td>\n",
       "      <td>5.4</td>\n",
       "    </tr>\n",
       "    <tr>\n",
       "      <th>58</th>\n",
       "      <td>0.104</td>\n",
       "      <td>2.5</td>\n",
       "      <td>2.3</td>\n",
       "      <td>46</td>\n",
       "      <td>3</td>\n",
       "      <td>2</td>\n",
       "      <td>2</td>\n",
       "      <td>15.8</td>\n",
       "    </tr>\n",
       "    <tr>\n",
       "      <th>59</th>\n",
       "      <td>4.190</td>\n",
       "      <td>58.0</td>\n",
       "      <td>24</td>\n",
       "      <td>210</td>\n",
       "      <td>4</td>\n",
       "      <td>3</td>\n",
       "      <td>4</td>\n",
       "      <td>10.3</td>\n",
       "    </tr>\n",
       "    <tr>\n",
       "      <th>60</th>\n",
       "      <td>3.500</td>\n",
       "      <td>3.9</td>\n",
       "      <td>3</td>\n",
       "      <td>14</td>\n",
       "      <td>2</td>\n",
       "      <td>1</td>\n",
       "      <td>1</td>\n",
       "      <td>19.4</td>\n",
       "    </tr>\n",
       "    <tr>\n",
       "      <th>61</th>\n",
       "      <td>4.050</td>\n",
       "      <td>17.0</td>\n",
       "      <td>13</td>\n",
       "      <td>38</td>\n",
       "      <td>3</td>\n",
       "      <td>1</td>\n",
       "      <td>1</td>\n",
       "      <td>?</td>\n",
       "    </tr>\n",
       "  </tbody>\n",
       "</table>\n",
       "</div>"
      ],
      "text/plain": [
       "    body_weight  brain_weight max_life_span gestation_time  predation_index  \\\n",
       "57        2.000          12.3           7.5            200                3   \n",
       "58        0.104           2.5           2.3             46                3   \n",
       "59        4.190          58.0            24            210                4   \n",
       "60        3.500           3.9             3             14                2   \n",
       "61        4.050          17.0            13             38                3   \n",
       "\n",
       "    sleep_exposure_index  danger_index total_sleep  \n",
       "57                     1             3         5.4  \n",
       "58                     2             2        15.8  \n",
       "59                     3             4        10.3  \n",
       "60                     1             1        19.4  \n",
       "61                     1             1           ?  "
      ]
     },
     "execution_count": 5,
     "metadata": {},
     "output_type": "execute_result"
    }
   ],
   "source": [
    "\n",
    "sleep_Data.tail()\n",
    "\n"
   ]
  },
  {
   "cell_type": "markdown",
   "metadata": {},
   "source": [
    "Displaying Column name "
   ]
  },
  {
   "cell_type": "code",
   "execution_count": 6,
   "metadata": {},
   "outputs": [
    {
     "data": {
      "text/plain": [
       "Index(['body_weight', 'brain_weight', 'max_life_span', 'gestation_time',\n",
       "       'predation_index', 'sleep_exposure_index', 'danger_index',\n",
       "       'total_sleep'],\n",
       "      dtype='object')"
      ]
     },
     "execution_count": 6,
     "metadata": {},
     "output_type": "execute_result"
    }
   ],
   "source": [
    "sleep_Data.columns"
   ]
  },
  {
   "cell_type": "markdown",
   "metadata": {},
   "source": [
    "Displaying data type "
   ]
  },
  {
   "cell_type": "code",
   "execution_count": 7,
   "metadata": {},
   "outputs": [
    {
     "data": {
      "text/plain": [
       "body_weight             float64\n",
       "brain_weight            float64\n",
       "max_life_span            object\n",
       "gestation_time           object\n",
       "predation_index           int64\n",
       "sleep_exposure_index      int64\n",
       "danger_index              int64\n",
       "total_sleep              object\n",
       "dtype: object"
      ]
     },
     "execution_count": 7,
     "metadata": {},
     "output_type": "execute_result"
    }
   ],
   "source": [
    "sleep_Data.dtypes"
   ]
  },
  {
   "cell_type": "markdown",
   "metadata": {},
   "source": [
    "Displaying basic information about dataset"
   ]
  },
  {
   "cell_type": "code",
   "execution_count": 9,
   "metadata": {},
   "outputs": [
    {
     "name": "stdout",
     "output_type": "stream",
     "text": [
      "<class 'pandas.core.frame.DataFrame'>\n",
      "RangeIndex: 62 entries, 0 to 61\n",
      "Data columns (total 8 columns):\n",
      " #   Column                Non-Null Count  Dtype  \n",
      "---  ------                --------------  -----  \n",
      " 0   body_weight           62 non-null     float64\n",
      " 1   brain_weight          62 non-null     float64\n",
      " 2   max_life_span         62 non-null     object \n",
      " 3   gestation_time        62 non-null     object \n",
      " 4   predation_index       62 non-null     int64  \n",
      " 5   sleep_exposure_index  62 non-null     int64  \n",
      " 6   danger_index          62 non-null     int64  \n",
      " 7   total_sleep           62 non-null     object \n",
      "dtypes: float64(2), int64(3), object(3)\n",
      "memory usage: 4.0+ KB\n"
     ]
    }
   ],
   "source": [
    "sleep_Data.info()"
   ]
  },
  {
   "cell_type": "markdown",
   "metadata": {},
   "source": [
    "Checking missing values of dataset"
   ]
  },
  {
   "cell_type": "code",
   "execution_count": 11,
   "metadata": {},
   "outputs": [
    {
     "data": {
      "text/html": [
       "<div>\n",
       "<style scoped>\n",
       "    .dataframe tbody tr th:only-of-type {\n",
       "        vertical-align: middle;\n",
       "    }\n",
       "\n",
       "    .dataframe tbody tr th {\n",
       "        vertical-align: top;\n",
       "    }\n",
       "\n",
       "    .dataframe thead th {\n",
       "        text-align: right;\n",
       "    }\n",
       "</style>\n",
       "<table border=\"1\" class=\"dataframe\">\n",
       "  <thead>\n",
       "    <tr style=\"text-align: right;\">\n",
       "      <th></th>\n",
       "      <th>body_weight</th>\n",
       "      <th>brain_weight</th>\n",
       "      <th>predation_index</th>\n",
       "      <th>sleep_exposure_index</th>\n",
       "      <th>danger_index</th>\n",
       "    </tr>\n",
       "  </thead>\n",
       "  <tbody>\n",
       "    <tr>\n",
       "      <th>count</th>\n",
       "      <td>62.000000</td>\n",
       "      <td>62.000000</td>\n",
       "      <td>62.000000</td>\n",
       "      <td>62.000000</td>\n",
       "      <td>62.000000</td>\n",
       "    </tr>\n",
       "    <tr>\n",
       "      <th>mean</th>\n",
       "      <td>198.789984</td>\n",
       "      <td>283.134194</td>\n",
       "      <td>2.870968</td>\n",
       "      <td>2.419355</td>\n",
       "      <td>2.612903</td>\n",
       "    </tr>\n",
       "    <tr>\n",
       "      <th>std</th>\n",
       "      <td>899.158011</td>\n",
       "      <td>930.278942</td>\n",
       "      <td>1.476414</td>\n",
       "      <td>1.604792</td>\n",
       "      <td>1.441252</td>\n",
       "    </tr>\n",
       "    <tr>\n",
       "      <th>min</th>\n",
       "      <td>0.005000</td>\n",
       "      <td>0.140000</td>\n",
       "      <td>1.000000</td>\n",
       "      <td>1.000000</td>\n",
       "      <td>1.000000</td>\n",
       "    </tr>\n",
       "    <tr>\n",
       "      <th>25%</th>\n",
       "      <td>0.600000</td>\n",
       "      <td>4.250000</td>\n",
       "      <td>2.000000</td>\n",
       "      <td>1.000000</td>\n",
       "      <td>1.000000</td>\n",
       "    </tr>\n",
       "    <tr>\n",
       "      <th>50%</th>\n",
       "      <td>3.342500</td>\n",
       "      <td>17.250000</td>\n",
       "      <td>3.000000</td>\n",
       "      <td>2.000000</td>\n",
       "      <td>2.000000</td>\n",
       "    </tr>\n",
       "    <tr>\n",
       "      <th>75%</th>\n",
       "      <td>48.202500</td>\n",
       "      <td>166.000000</td>\n",
       "      <td>4.000000</td>\n",
       "      <td>4.000000</td>\n",
       "      <td>4.000000</td>\n",
       "    </tr>\n",
       "    <tr>\n",
       "      <th>max</th>\n",
       "      <td>6654.000000</td>\n",
       "      <td>5712.000000</td>\n",
       "      <td>5.000000</td>\n",
       "      <td>5.000000</td>\n",
       "      <td>5.000000</td>\n",
       "    </tr>\n",
       "  </tbody>\n",
       "</table>\n",
       "</div>"
      ],
      "text/plain": [
       "       body_weight  brain_weight  predation_index  sleep_exposure_index  \\\n",
       "count    62.000000     62.000000        62.000000             62.000000   \n",
       "mean    198.789984    283.134194         2.870968              2.419355   \n",
       "std     899.158011    930.278942         1.476414              1.604792   \n",
       "min       0.005000      0.140000         1.000000              1.000000   \n",
       "25%       0.600000      4.250000         2.000000              1.000000   \n",
       "50%       3.342500     17.250000         3.000000              2.000000   \n",
       "75%      48.202500    166.000000         4.000000              4.000000   \n",
       "max    6654.000000   5712.000000         5.000000              5.000000   \n",
       "\n",
       "       danger_index  \n",
       "count     62.000000  \n",
       "mean       2.612903  \n",
       "std        1.441252  \n",
       "min        1.000000  \n",
       "25%        1.000000  \n",
       "50%        2.000000  \n",
       "75%        4.000000  \n",
       "max        5.000000  "
      ]
     },
     "execution_count": 11,
     "metadata": {},
     "output_type": "execute_result"
    }
   ],
   "source": [
    "sleep_Data.describe()"
   ]
  },
  {
   "cell_type": "markdown",
   "metadata": {},
   "source": [
    "missing values"
   ]
  },
  {
   "cell_type": "code",
   "execution_count": 12,
   "metadata": {},
   "outputs": [
    {
     "name": "stdout",
     "output_type": "stream",
     "text": [
      "False\n"
     ]
    }
   ],
   "source": [
    "print(sleep_Data.isnull().any().any())"
   ]
  },
  {
   "cell_type": "markdown",
   "metadata": {},
   "source": [
    "3. Data Cleaning and Preparation \n",
    "Handle Missing Values: Choose how to handle missing values (drop, fill, or leave as is).\n",
    "Explain why you did this drop, fill, etc. \n"
   ]
  },
  {
   "cell_type": "code",
   "execution_count": 13,
   "metadata": {},
   "outputs": [
    {
     "data": {
      "text/plain": [
       "body_weight             False\n",
       "brain_weight            False\n",
       "max_life_span           False\n",
       "gestation_time          False\n",
       "predation_index         False\n",
       "sleep_exposure_index    False\n",
       "danger_index            False\n",
       "total_sleep             False\n",
       "dtype: bool"
      ]
     },
     "execution_count": 13,
     "metadata": {},
     "output_type": "execute_result"
    }
   ],
   "source": [
    "sleep_Data.isnull().any(axis=0)"
   ]
  },
  {
   "cell_type": "markdown",
   "metadata": {},
   "source": [
    "4. Exploratory Data Analysis (EDA) \n",
    "Descriptive Statistics: Provide s"
   ]
  },
  {
   "cell_type": "code",
   "execution_count": 16,
   "metadata": {},
   "outputs": [
    {
     "data": {
      "image/png": "[encoded data removed]",
      "text/plain": [
       "<Figure size 1000x600 with 1 Axes>"
      ]
     },
     "metadata": {},
     "output_type": "display_data"
    }
   ],
   "source": [
    "\n",
    "\n",
    "#  dataset\n",
    "data = {\n",
    "    \"body_weight\": [6654.000, 1.000, 3.385, 0.920, 2547.000],\n",
    "    \"sleep_exposure_index\": [5, 1, 1, 2, 5]\n",
    "}\n",
    "\n",
    "# Create a DataFrame\n",
    "df = pd.DataFrame(data)\n",
    "\n",
    "# Plot the bar chart for body weight and sleep exposure index\n",
    "plt.figure(figsize=(10, 6))\n",
    "\n",
    "# Plot body_weight as bars\n",
    "plt.bar(df.index, df[\"body_weight\"], color='skyblue', label='Body Weight (kg)')\n",
    "\n",
    "# Plot sleep_exposure_index as bars with a different color\n",
    "plt.bar(df.index, df[\"sleep_exposure_index\"], color='salmon', label='Sleep Exposure Index')\n",
    "\n",
    "# Add labels and title\n",
    "plt.title(\"Body Weight and Sleep Exposure Index Comparison\")\n",
    "plt.xlabel(\"Sample Index\")\n",
    "plt.ylabel(\"Values\")\n",
    "plt.xticks(df.index)  # Ensure the x-axis ticks match the DataFrame index\n",
    "plt.legend()  # Display the legend\n",
    "\n",
    "# Display the chart\n",
    "plt.show()\n"
   ]
  }
 ],
 "metadata": {
  "kernelspec": {
   "display_name": "Python 3",
   "language": "python",
   "name": "python3"
  },
  "language_info": {
   "codemirror_mode": {
    "name": "ipython",
    "version": 3
   },
   "file_extension": ".py",
   "mimetype": "text/x-python",
   "name": "python",
   "nbconvert_exporter": "python",
   "pygments_lexer": "ipython3",
   "version": "3.13.0"
  }
 },
 "nbformat": 4,
 "nbformat_minor": 2
}
